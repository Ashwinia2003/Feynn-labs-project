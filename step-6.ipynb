{
 "cells": [
  {
   "cell_type": "markdown",
   "id": "ac75341d",
   "metadata": {},
   "source": [
    "## Step-6 : Profiling segments"
   ]
  },
  {
   "cell_type": "markdown",
   "id": "e51d2eeb",
   "metadata": {},
   "source": [
    "### the R code is - \n",
    "##### R> MD.vclust <- hclust(dist(t(MD.x)))\n",
    "### Equivalent python code is"
   ]
  },
  {
   "cell_type": "code",
   "execution_count": null,
   "id": "a9ff1156",
   "metadata": {},
   "outputs": [],
   "source": [
    "from scipy.cluster.hierarchy import linkage, dendrogram\n",
    "from scipy.spatial.distance import pdist\n",
    "\n",
    "distances = pdist(MD_x.T)\n",
    "MD_vclust = linkage(distances)\n",
    "dendrogram(MD_vclust)"
   ]
  },
  {
   "cell_type": "markdown",
   "id": "af9012c5",
   "metadata": {},
   "source": [
    "### the R code is - \n",
    "##### R> barchart(MD.k4, shade = TRUE, + which = rev(MD.vclust$order))\n",
    "### Equivalent python code is"
   ]
  },
  {
   "cell_type": "code",
   "execution_count": null,
   "id": "174a75f4",
   "metadata": {},
   "outputs": [],
   "source": [
    "import matplotlib.pyplot as plt\n",
    "import numpy as np\n",
    "\n",
    "# Assuming you have the variables MD_k4 and MD_vclust available\n",
    "\n",
    "# Reverse the order of MD_vclust's order\n",
    "order = np.flip(MD_vclust['order'])\n",
    "\n",
    "# Count the occurrences of each category in MD_k4\n",
    "unique, counts = np.unique(MD_k4, return_counts=True)\n",
    "\n",
    "# Plot the bar chart with shaded bars\n",
    "plt.bar(unique, counts, color='gray')\n",
    "plt.bar(unique[order], counts[order], color='blue')\n",
    "plt.xlabel('Category')\n",
    "plt.ylabel('Count')\n",
    "plt.show()"
   ]
  },
  {
   "cell_type": "markdown",
   "id": "c49acdf4",
   "metadata": {},
   "source": [
    "### the R code is - \n",
    "##### R> plot(MD.k4, project = MD.pca, data = MD.x, + hull = FALSE, simlines = FALSE, + xlab = \"principal component 1\",+ ylab = \"principal component 2\")\n",
    "##### R> projAxes(MD.pca)\n",
    "### Equivalent python code is"
   ]
  },
  {
   "cell_type": "code",
   "execution_count": null,
   "id": "e24dab37",
   "metadata": {},
   "outputs": [],
   "source": [
    "import matplotlib.pyplot as plt\n",
    "\n",
    "# Assuming you have the variables MD_k4, MD_pca, and MD_x available\n",
    "\n",
    "# Plotting the scatter plot of the data projected onto the first two principal components\n",
    "plt.scatter(MD_pca[:, 0], MD_pca[:, 1], c=MD_k4)\n",
    "plt.xlabel('Principal Component 1')\n",
    "plt.ylabel('Principal Component 2')\n",
    "plt.show()"
   ]
  }
 ],
 "metadata": {
  "kernelspec": {
   "display_name": "Python 3 (ipykernel)",
   "language": "python",
   "name": "python3"
  },
  "language_info": {
   "codemirror_mode": {
    "name": "ipython",
    "version": 3
   },
   "file_extension": ".py",
   "mimetype": "text/x-python",
   "name": "python",
   "nbconvert_exporter": "python",
   "pygments_lexer": "ipython3",
   "version": "3.10.6"
  }
 },
 "nbformat": 4,
 "nbformat_minor": 5
}
